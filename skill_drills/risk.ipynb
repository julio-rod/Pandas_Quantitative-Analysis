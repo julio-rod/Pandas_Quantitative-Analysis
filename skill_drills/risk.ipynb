{
 "cells": [
  {
   "cell_type": "code",
   "execution_count": 1,
   "id": "2cfc7c0a-d5c6-4354-b178-497a998131ad",
   "metadata": {},
   "outputs": [],
   "source": [
    "import pandas as pd"
   ]
  },
  {
   "cell_type": "code",
   "execution_count": 2,
   "id": "d234b873-b928-4e81-876e-08dfcc00b733",
   "metadata": {},
   "outputs": [
    {
     "data": {
      "text/plain": [
       "11.911428571428571"
      ]
     },
     "execution_count": 2,
     "metadata": {},
     "output_type": "execute_result"
    }
   ],
   "source": [
    "# Calculating the mean using ‘sum’ and ‘count’\n",
    "stock_abc = pd.DataFrame({'close': [11.25, 11.98, 10.74, 11.16, 12.35, 12.87, 13.03]})\n",
    "stock_abc_mean_1 = stock_abc['close'].sum() / stock_abc['close'].count()\n",
    "stock_abc_mean_1"
   ]
  },
  {
   "cell_type": "code",
   "execution_count": 4,
   "id": "5c2ba0b8-2fb5-4d14-8871-ac43b00f4a30",
   "metadata": {},
   "outputs": [
    {
     "data": {
      "text/plain": [
       "11.911428571428571"
      ]
     },
     "execution_count": 4,
     "metadata": {},
     "output_type": "execute_result"
    }
   ],
   "source": [
    "# Calculating the mean using 'mean'\n",
    "stock_abc_mean_2 = stock_abc['close'].mean()\n",
    "stock_abc_mean_2"
   ]
  },
  {
   "cell_type": "code",
   "execution_count": 9,
   "id": "6ad01886-ab79-4ee8-995c-af6d3f28b03b",
   "metadata": {},
   "outputs": [],
   "source": [
    "### "
   ]
  },
  {
   "cell_type": "code",
   "execution_count": 7,
   "id": "c25db564-5532-41b2-8d63-9456419ccfa2",
   "metadata": {},
   "outputs": [
    {
     "data": {
      "text/plain": [
       "12.288"
      ]
     },
     "execution_count": 7,
     "metadata": {},
     "output_type": "execute_result"
    }
   ],
   "source": [
    "stock_abc = pd.DataFrame({'close' : [11.25, 11.98, 10.74, 11.16, 12.35, 12.87, 13.03, 13.14, 13.37, 12.99]})\n",
    "stock_abc_mean = stock_abc['close'].sum() / stock_abc['close'].count()\n",
    "stock_abc_mean"
   ]
  },
  {
   "cell_type": "code",
   "execution_count": 8,
   "id": "051e6daf-da85-4cb1-92ac-b1f6e1d9cf20",
   "metadata": {},
   "outputs": [
    {
     "data": {
      "text/plain": [
       "13.988"
      ]
     },
     "execution_count": 8,
     "metadata": {},
     "output_type": "execute_result"
    }
   ],
   "source": [
    "stock_def = pd.DataFrame({'close' : [14.25, 15.98, 11.74, 13.16, 12.35, 14.87, 15.03, 16.14, 13.37, 12.99]})\n",
    "stock_def_mean = stock_def['close'].mean()\n",
    "stock_def_mean"
   ]
  },
  {
   "cell_type": "code",
   "execution_count": null,
   "id": "646d2956-84e3-4143-a4e2-3329b5640971",
   "metadata": {},
   "outputs": [],
   "source": []
  }
 ],
 "metadata": {
  "kernelspec": {
   "display_name": "Python (dev)",
   "language": "python",
   "name": "dev"
  },
  "language_info": {
   "codemirror_mode": {
    "name": "ipython",
    "version": 3
   },
   "file_extension": ".py",
   "mimetype": "text/x-python",
   "name": "python",
   "nbconvert_exporter": "python",
   "pygments_lexer": "ipython3",
   "version": "3.7.13"
  }
 },
 "nbformat": 4,
 "nbformat_minor": 5
}
