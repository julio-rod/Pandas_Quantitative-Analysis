{
 "cells": [
  {
   "cell_type": "code",
   "execution_count": 1,
   "id": "24bf8328-8af3-4ffa-a6bc-5ac4e68c7696",
   "metadata": {},
   "outputs": [],
   "source": [
    "import pandas as pd"
   ]
  },
  {
   "cell_type": "markdown",
   "id": "8990daf7-5c57-4937-ab65-2cc3cad20f1b",
   "metadata": {},
   "source": [
    "SKILL DRILL: "
   ]
  },
  {
   "cell_type": "markdown",
   "id": "8b029d10-8a9b-414c-84a4-f732c9872637",
   "metadata": {},
   "source": [
    "What is the weekly return value from one Monday to the next (11.25 to 12.87), a period of five trading days, for the stock_abc? Assume the first value is the closing price for a Monday.\n",
    "\n",
    "import pandas as pd\n",
    "stock_abc = pd.DataFrame({‘close’ : [11.25, 11.98, 10.74, 11.16, 12.35, 12.87, 13.03, 13.14, 13.37, 12.99]})"
   ]
  },
  {
   "cell_type": "code",
   "execution_count": 2,
   "id": "4311eef9-9d9f-4619-acfd-9e86f385f22c",
   "metadata": {},
   "outputs": [],
   "source": [
    "stock_abc = pd.DataFrame({'close' : [11.25, 11.98, 10.74, 11.16, 12.35, 12.87, 13.03, 13.14, 13.37, 12.99]})"
   ]
  },
  {
   "cell_type": "code",
   "execution_count": 9,
   "id": "def21c93-a7ba-41d4-b8af-84fe49026d51",
   "metadata": {},
   "outputs": [
    {
     "name": "stdout",
     "output_type": "stream",
     "text": [
      "0.14399999999999993\n"
     ]
    }
   ],
   "source": [
    "stock_abc['next_week'] = stock_abc['close'].shift(-5)\n",
    "return_value = (stock_abc['next_week'] - stock_abc['close'])/stock_abc['close']\n",
    "print(return_value[0])"
   ]
  },
  {
   "cell_type": "code",
   "execution_count": null,
   "id": "d0584bba-4429-4268-b96b-36539355d708",
   "metadata": {},
   "outputs": [],
   "source": []
  }
 ],
 "metadata": {
  "kernelspec": {
   "display_name": "Python (dev)",
   "language": "python",
   "name": "dev"
  },
  "language_info": {
   "codemirror_mode": {
    "name": "ipython",
    "version": 3
   },
   "file_extension": ".py",
   "mimetype": "text/x-python",
   "name": "python",
   "nbconvert_exporter": "python",
   "pygments_lexer": "ipython3",
   "version": "3.7.13"
  }
 },
 "nbformat": 4,
 "nbformat_minor": 5
}
