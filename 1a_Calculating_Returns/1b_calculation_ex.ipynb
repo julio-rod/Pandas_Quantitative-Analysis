{
 "cells": [
  {
   "cell_type": "code",
   "execution_count": 1,
   "id": "d77242c8-d8b7-422e-a753-7492c64e9365",
   "metadata": {},
   "outputs": [],
   "source": [
    "import pandas as pd\n",
    "from pathlib import Path"
   ]
  },
  {
   "cell_type": "code",
   "execution_count": 3,
   "id": "b49962f8-4df7-41ed-a9d6-03c8beb856f3",
   "metadata": {},
   "outputs": [
    {
     "name": "stdout",
     "output_type": "stream",
     "text": [
      "The daily return for the S&P 500 was  0.00187 or  0.19%\n"
     ]
    }
   ],
   "source": [
    "# Establishing the current and previous closing prices of the S&P 500.\n",
    "spx_current_close = 1884.660034\n",
    "spx_prior_close = 1881.140015\n",
    "\n",
    "# Daily Return Calculation\n",
    "daily_return = ((spx_current_close - spx_prior_close ) / spx_prior_close)\n",
    "\n",
    "# Converting daily_return to a percentage value\n",
    "daily_return_pct = daily_return * 100\n",
    "\n",
    "# Printing the result\n",
    "print(f\"The daily return for the S&P 500 was {daily_return: .5f} or {daily_return_pct: .2f}%\")\n"
   ]
  },
  {
   "cell_type": "code",
   "execution_count": null,
   "id": "656a287a-5f03-4072-82d2-1262df08ad06",
   "metadata": {},
   "outputs": [],
   "source": []
  }
 ],
 "metadata": {
  "kernelspec": {
   "display_name": "Python (dev)",
   "language": "python",
   "name": "dev"
  },
  "language_info": {
   "codemirror_mode": {
    "name": "ipython",
    "version": 3
   },
   "file_extension": ".py",
   "mimetype": "text/x-python",
   "name": "python",
   "nbconvert_exporter": "python",
   "pygments_lexer": "ipython3",
   "version": "3.7.13"
  }
 },
 "nbformat": 4,
 "nbformat_minor": 5
}
