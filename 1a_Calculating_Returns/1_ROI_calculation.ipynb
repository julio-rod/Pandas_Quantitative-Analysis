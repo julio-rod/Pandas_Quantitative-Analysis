{
 "cells": [
  {
   "cell_type": "code",
   "execution_count": 1,
   "id": "e2ea9ee3-9371-4ad0-a20f-d1aba665d801",
   "metadata": {},
   "outputs": [],
   "source": [
    "import pandas as pd\n",
    "from pathlib import Path"
   ]
  },
  {
   "cell_type": "code",
   "execution_count": 2,
   "id": "e2b4e2fb-e41a-466a-a821-61193364cc8a",
   "metadata": {},
   "outputs": [
    {
     "name": "stdout",
     "output_type": "stream",
     "text": [
      "ROI for an initial investment of $100 now priced at $110 is 0.1 or  10.00%\n"
     ]
    }
   ],
   "source": [
    "# Current and initial values of the investment.\n",
    "initial_investment_value = 100\n",
    "current_investment_value = 110\n",
    "\n",
    "# ROI Calculation - calculating the gain or loss of the current value of the investment versus the initial value of that investment\n",
    "roi = (current_investment_value - initial_investment_value) / initial_investment_value\n",
    "\n",
    "# Converting the ROI calculation into a percentage by multiplying it by 100\n",
    "roi_pct = roi * 100\n",
    "\n",
    "# Printing the result of our ROI Calculation\n",
    "print(\n",
    "    f\"ROI for an initial investment of ${initial_investment_value} \"\n",
    "    f\"now priced at ${current_investment_value} is {roi} or {roi_pct: .2f}%\")"
   ]
  },
  {
   "cell_type": "code",
   "execution_count": null,
   "id": "750e2116-57d8-433b-9139-bff02a1d1308",
   "metadata": {},
   "outputs": [],
   "source": []
  }
 ],
 "metadata": {
  "kernelspec": {
   "display_name": "Python (dev)",
   "language": "python",
   "name": "dev"
  },
  "language_info": {
   "codemirror_mode": {
    "name": "ipython",
    "version": 3
   },
   "file_extension": ".py",
   "mimetype": "text/x-python",
   "name": "python",
   "nbconvert_exporter": "python",
   "pygments_lexer": "ipython3",
   "version": "3.7.13"
  }
 },
 "nbformat": 4,
 "nbformat_minor": 5
}
