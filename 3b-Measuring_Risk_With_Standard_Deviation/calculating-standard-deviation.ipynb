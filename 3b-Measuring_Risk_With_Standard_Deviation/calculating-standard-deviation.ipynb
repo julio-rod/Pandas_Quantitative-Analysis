{
 "cells": [
  {
   "cell_type": "code",
   "execution_count": 5,
   "id": "c5a2c694-49a8-48c3-8b5a-360103939275",
   "metadata": {},
   "outputs": [],
   "source": [
    "import pandas as pd\n",
    "from pathlib import Path\n",
    "import numpy as np\n",
    "%matplotlib inline"
   ]
  },
  {
   "cell_type": "code",
   "execution_count": 6,
   "id": "c9f72c95-ab02-4ee3-b630-3b9224d217b1",
   "metadata": {},
   "outputs": [
    {
     "data": {
      "text/html": [
       "<div>\n",
       "<style scoped>\n",
       "    .dataframe tbody tr th:only-of-type {\n",
       "        vertical-align: middle;\n",
       "    }\n",
       "\n",
       "    .dataframe tbody tr th {\n",
       "        vertical-align: top;\n",
       "    }\n",
       "\n",
       "    .dataframe thead th {\n",
       "        text-align: right;\n",
       "    }\n",
       "</style>\n",
       "<table border=\"1\" class=\"dataframe\">\n",
       "  <thead>\n",
       "    <tr style=\"text-align: right;\">\n",
       "      <th></th>\n",
       "      <th>AAPL</th>\n",
       "      <th>MSFT</th>\n",
       "      <th>GOOG</th>\n",
       "      <th>FB</th>\n",
       "      <th>AMZN</th>\n",
       "    </tr>\n",
       "    <tr>\n",
       "      <th>Date</th>\n",
       "      <th></th>\n",
       "      <th></th>\n",
       "      <th></th>\n",
       "      <th></th>\n",
       "      <th></th>\n",
       "    </tr>\n",
       "  </thead>\n",
       "  <tbody>\n",
       "    <tr>\n",
       "      <th>2018-01-02</th>\n",
       "      <td>168.339050</td>\n",
       "      <td>84.128128</td>\n",
       "      <td>1065.000000</td>\n",
       "      <td>181.419998</td>\n",
       "      <td>1189.010010</td>\n",
       "    </tr>\n",
       "    <tr>\n",
       "      <th>2018-01-03</th>\n",
       "      <td>168.309738</td>\n",
       "      <td>84.519646</td>\n",
       "      <td>1082.479980</td>\n",
       "      <td>184.669998</td>\n",
       "      <td>1204.199951</td>\n",
       "    </tr>\n",
       "    <tr>\n",
       "      <th>2018-01-04</th>\n",
       "      <td>169.091522</td>\n",
       "      <td>85.263542</td>\n",
       "      <td>1086.400024</td>\n",
       "      <td>184.330002</td>\n",
       "      <td>1209.589966</td>\n",
       "    </tr>\n",
       "    <tr>\n",
       "      <th>2018-01-05</th>\n",
       "      <td>171.016678</td>\n",
       "      <td>86.320648</td>\n",
       "      <td>1102.229980</td>\n",
       "      <td>186.850006</td>\n",
       "      <td>1229.140015</td>\n",
       "    </tr>\n",
       "    <tr>\n",
       "      <th>2018-01-08</th>\n",
       "      <td>170.381485</td>\n",
       "      <td>86.408737</td>\n",
       "      <td>1106.939941</td>\n",
       "      <td>188.279999</td>\n",
       "      <td>1246.869995</td>\n",
       "    </tr>\n",
       "  </tbody>\n",
       "</table>\n",
       "</div>"
      ],
      "text/plain": [
       "                  AAPL       MSFT         GOOG          FB         AMZN\n",
       "Date                                                                   \n",
       "2018-01-02  168.339050  84.128128  1065.000000  181.419998  1189.010010\n",
       "2018-01-03  168.309738  84.519646  1082.479980  184.669998  1204.199951\n",
       "2018-01-04  169.091522  85.263542  1086.400024  184.330002  1209.589966\n",
       "2018-01-05  171.016678  86.320648  1102.229980  186.850006  1229.140015\n",
       "2018-01-08  170.381485  86.408737  1106.939941  188.279999  1246.869995"
      ]
     },
     "execution_count": 6,
     "metadata": {},
     "output_type": "execute_result"
    }
   ],
   "source": [
    "tech_stocks_df = pd.read_csv(\n",
    "    Path(\"tech_stocks_closing_value_2018.csv\"),\n",
    "    index_col=\"Date\", \n",
    "    parse_dates=True,\n",
    "    infer_datetime_format=True)\n",
    "\n",
    "tech_stocks_df.head()"
   ]
  },
  {
   "cell_type": "code",
   "execution_count": 7,
   "id": "b59b8ae4-84f8-4a5e-a631-0a8fb644eff6",
   "metadata": {},
   "outputs": [
    {
     "data": {
      "text/html": [
       "<div>\n",
       "<style scoped>\n",
       "    .dataframe tbody tr th:only-of-type {\n",
       "        vertical-align: middle;\n",
       "    }\n",
       "\n",
       "    .dataframe tbody tr th {\n",
       "        vertical-align: top;\n",
       "    }\n",
       "\n",
       "    .dataframe thead th {\n",
       "        text-align: right;\n",
       "    }\n",
       "</style>\n",
       "<table border=\"1\" class=\"dataframe\">\n",
       "  <thead>\n",
       "    <tr style=\"text-align: right;\">\n",
       "      <th></th>\n",
       "      <th>AAPL</th>\n",
       "      <th>MSFT</th>\n",
       "      <th>GOOG</th>\n",
       "      <th>FB</th>\n",
       "      <th>AMZN</th>\n",
       "    </tr>\n",
       "    <tr>\n",
       "      <th>Date</th>\n",
       "      <th></th>\n",
       "      <th></th>\n",
       "      <th></th>\n",
       "      <th></th>\n",
       "      <th></th>\n",
       "    </tr>\n",
       "  </thead>\n",
       "  <tbody>\n",
       "    <tr>\n",
       "      <th>2018-01-03</th>\n",
       "      <td>-0.000174</td>\n",
       "      <td>0.004654</td>\n",
       "      <td>0.016413</td>\n",
       "      <td>0.017914</td>\n",
       "      <td>0.012775</td>\n",
       "    </tr>\n",
       "    <tr>\n",
       "      <th>2018-01-04</th>\n",
       "      <td>0.004645</td>\n",
       "      <td>0.008801</td>\n",
       "      <td>0.003621</td>\n",
       "      <td>-0.001841</td>\n",
       "      <td>0.004476</td>\n",
       "    </tr>\n",
       "    <tr>\n",
       "      <th>2018-01-05</th>\n",
       "      <td>0.011385</td>\n",
       "      <td>0.012398</td>\n",
       "      <td>0.014571</td>\n",
       "      <td>0.013671</td>\n",
       "      <td>0.016163</td>\n",
       "    </tr>\n",
       "    <tr>\n",
       "      <th>2018-01-08</th>\n",
       "      <td>-0.003714</td>\n",
       "      <td>0.001020</td>\n",
       "      <td>0.004273</td>\n",
       "      <td>0.007653</td>\n",
       "      <td>0.014425</td>\n",
       "    </tr>\n",
       "    <tr>\n",
       "      <th>2018-01-09</th>\n",
       "      <td>-0.000115</td>\n",
       "      <td>-0.000680</td>\n",
       "      <td>-0.000614</td>\n",
       "      <td>-0.002178</td>\n",
       "      <td>0.004676</td>\n",
       "    </tr>\n",
       "  </tbody>\n",
       "</table>\n",
       "</div>"
      ],
      "text/plain": [
       "                AAPL      MSFT      GOOG        FB      AMZN\n",
       "Date                                                        \n",
       "2018-01-03 -0.000174  0.004654  0.016413  0.017914  0.012775\n",
       "2018-01-04  0.004645  0.008801  0.003621 -0.001841  0.004476\n",
       "2018-01-05  0.011385  0.012398  0.014571  0.013671  0.016163\n",
       "2018-01-08 -0.003714  0.001020  0.004273  0.007653  0.014425\n",
       "2018-01-09 -0.000115 -0.000680 -0.000614 -0.002178  0.004676"
      ]
     },
     "execution_count": 7,
     "metadata": {},
     "output_type": "execute_result"
    }
   ],
   "source": [
    "# Calculate daily returns using Pandas ‘pct_change’  and ‘dropna’\n",
    "daily_returns = tech_stocks_df.pct_change().dropna()\n",
    "\n",
    "# Display sample data\n",
    "daily_returns.head()"
   ]
  },
  {
   "cell_type": "code",
   "execution_count": 8,
   "id": "ee3da372-268a-4f50-bc7d-60ebc7e1b405",
   "metadata": {},
   "outputs": [
    {
     "ename": "NameError",
     "evalue": "name 'standard_deviation' is not defined",
     "output_type": "error",
     "traceback": [
      "\u001b[0;31m---------------------------------------------------------------------------\u001b[0m",
      "\u001b[0;31mNameError\u001b[0m                                 Traceback (most recent call last)",
      "\u001b[0;32m/var/folders/s0/j7c8fls519q5xcddfy92rb7c0000gn/T/ipykernel_5218/575219233.py\u001b[0m in \u001b[0;36m<module>\u001b[0;34m\u001b[0m\n\u001b[1;32m      4\u001b[0m \u001b[0;34m\u001b[0m\u001b[0m\n\u001b[1;32m      5\u001b[0m \u001b[0;31m# Display results\u001b[0m\u001b[0;34m\u001b[0m\u001b[0;34m\u001b[0m\u001b[0;34m\u001b[0m\u001b[0m\n\u001b[0;32m----> 6\u001b[0;31m \u001b[0mstandard_deviation\u001b[0m\u001b[0;34m.\u001b[0m\u001b[0mhead\u001b[0m\u001b[0;34m(\u001b[0m\u001b[0;34m)\u001b[0m\u001b[0;34m\u001b[0m\u001b[0;34m\u001b[0m\u001b[0m\n\u001b[0m",
      "\u001b[0;31mNameError\u001b[0m: name 'standard_deviation' is not defined"
     ]
    }
   ],
   "source": [
    "# Calculate the standard deviation for each of the tech stocks\n",
    "# call the Pandas `std` function on the `daily_returns` DataFrame\n",
    "standard_deviation1 = daily_returns.std()\n",
    "\n",
    "# Display results\n",
    "standard_deviation.head()"
   ]
  },
  {
   "cell_type": "code",
   "execution_count": 9,
   "id": "95322715-7c4b-49de-96b5-c39745a799d9",
   "metadata": {},
   "outputs": [
    {
     "data": {
      "text/plain": [
       "GOOG    0.017724\n",
       "MSFT    0.017839\n",
       "AAPL    0.018106\n",
       "AMZN    0.022768\n",
       "FB      0.023949\n",
       "dtype: float64"
      ]
     },
     "execution_count": 9,
     "metadata": {},
     "output_type": "execute_result"
    }
   ],
   "source": [
    "# Sort the standard deviation values using Pandas 'sort_values' function\n",
    "standard_deviation_sorted = standard_deviation1.sort_values()\n",
    "\n",
    "# Display results\n",
    "standard_deviation_sorted\n"
   ]
  },
  {
   "cell_type": "markdown",
   "id": "8c6a2fbf-bf6e-44fc-a9c1-196a1e09c5d6",
   "metadata": {},
   "source": [
    "### GOOG is the smallest and FB is the largest standard deviation. \n",
    "### This can also be seen as GOOG being the smallest risk stock and FB beeing the largest risk stock."
   ]
  },
  {
   "cell_type": "markdown",
   "id": "4d122810-4046-4ad9-8e10-200b20c7444c",
   "metadata": {},
   "source": [
    "# Find the Annualized Standard Deviation\n",
    "### We’ll calculate the annualized standard deviation (std) by using the numbers we just generated from the daily returns. To do this, we need to multiply the square root of the number of trading days in a year by the standard deviation, as the following formula shows:\n",
    "\n",
    "### annualized std = std × √ of the number of trading days in a year\n",
    "\n",
    "random example of different trading days calanders: http://www.swingtradesystems.com/trading-days-calendars.html"
   ]
  },
  {
   "cell_type": "code",
   "execution_count": 10,
   "id": "e2b57d36-67f4-4a92-9cdd-dc42da7816db",
   "metadata": {},
   "outputs": [
    {
     "data": {
      "text/plain": [
       "GOOG    0.281354\n",
       "MSFT    0.283180\n",
       "AAPL    0.287428\n",
       "AMZN    0.361434\n",
       "FB      0.380172\n",
       "dtype: float64"
      ]
     },
     "execution_count": 10,
     "metadata": {},
     "output_type": "execute_result"
    }
   ],
   "source": [
    "# Calculate the annualized standard deviation, using the standard_deviation\n",
    "# from the daily_returns DataFrame multiplied by the square root (np.sqrt)\n",
    "# of the number of trading days in a year (252)\n",
    "annualized_standard_deviation = standard_deviation1 * np.sqrt(252)\n",
    "\n",
    "# Display the sorted results\n",
    "annualized_standard_deviation.sort_values()"
   ]
  },
  {
   "cell_type": "markdown",
   "id": "1e2d92e3-367d-4a1d-a5b0-b07c6ee4ebda",
   "metadata": {},
   "source": [
    "### If you use the monthly return data, the standard deviation will be multiplied by the square root of 12—which is the number of months in a year. \n",
    "### Therefore, the formula is \n",
    "# `annualized_std_dev=monthly_std_dev * np.sqrt(12)`"
   ]
  },
  {
   "cell_type": "code",
   "execution_count": 11,
   "id": "4f76eff6-5b03-4f04-b65a-ce13e8c675fa",
   "metadata": {},
   "outputs": [
    {
     "data": {
      "text/plain": [
       "<AxesSubplot:title={'center':'Box Plot of Daily Returns Data - 5 Tech Stocks'}>"
      ]
     },
     "execution_count": 11,
     "metadata": {},
     "output_type": "execute_result"
    },
    {
     "data": {
      "image/png": "[encoded data removed]",
      "text/plain": [
       "<Figure size 640x480 with 1 Axes>"
      ]
     },
     "metadata": {},
     "output_type": "display_data"
    }
   ],
   "source": [
    "# Create a Pandas box plot from the `daily_returns` DataFrame\n",
    "daily_returns.plot.box(title=\"Box Plot of Daily Returns Data - 5 Tech Stocks\")"
   ]
  },
  {
   "cell_type": "markdown",
   "id": "15501715-4835-4f4e-a590-c45d1525175e",
   "metadata": {},
   "source": [
    "# Skill Drill - Different Example from above"
   ]
  },
  {
   "cell_type": "code",
   "execution_count": 12,
   "id": "f97dec8b-8e3e-4c81-b166-ff0369a29f86",
   "metadata": {},
   "outputs": [],
   "source": [
    "stocks = pd.DataFrame({\n",
    "    'stock_abc' : [17.89, 16.43, 16.25, 15.74, 15.36, 18.29, 18.00, 18.15, 18.30, 18.50],\n",
    "    'stock_def' : [124.37, 125.21, 125.75, 126.51, 127.25, 127.00, 127.10, 126.89, 126.99, 127.75],\n",
    "    'stock_efg' : [5.45, 5.50, 5.75, 5.10, 4.90, 4.75, 4.70, 4.80, 4.29, 4.33]\n",
    "})"
   ]
  },
  {
   "cell_type": "code",
   "execution_count": 13,
   "id": "3daec226-a3a1-4158-84de-4fb7bc6af660",
   "metadata": {},
   "outputs": [
    {
     "data": {
      "text/html": [
       "<div>\n",
       "<style scoped>\n",
       "    .dataframe tbody tr th:only-of-type {\n",
       "        vertical-align: middle;\n",
       "    }\n",
       "\n",
       "    .dataframe tbody tr th {\n",
       "        vertical-align: top;\n",
       "    }\n",
       "\n",
       "    .dataframe thead th {\n",
       "        text-align: right;\n",
       "    }\n",
       "</style>\n",
       "<table border=\"1\" class=\"dataframe\">\n",
       "  <thead>\n",
       "    <tr style=\"text-align: right;\">\n",
       "      <th></th>\n",
       "      <th>stock_abc</th>\n",
       "      <th>stock_def</th>\n",
       "      <th>stock_efg</th>\n",
       "    </tr>\n",
       "  </thead>\n",
       "  <tbody>\n",
       "    <tr>\n",
       "      <th>1</th>\n",
       "      <td>-0.081610</td>\n",
       "      <td>0.006754</td>\n",
       "      <td>0.009174</td>\n",
       "    </tr>\n",
       "    <tr>\n",
       "      <th>2</th>\n",
       "      <td>-0.010956</td>\n",
       "      <td>0.004313</td>\n",
       "      <td>0.045455</td>\n",
       "    </tr>\n",
       "    <tr>\n",
       "      <th>3</th>\n",
       "      <td>-0.031385</td>\n",
       "      <td>0.006044</td>\n",
       "      <td>-0.113043</td>\n",
       "    </tr>\n",
       "    <tr>\n",
       "      <th>4</th>\n",
       "      <td>-0.024142</td>\n",
       "      <td>0.005849</td>\n",
       "      <td>-0.039216</td>\n",
       "    </tr>\n",
       "    <tr>\n",
       "      <th>5</th>\n",
       "      <td>0.190755</td>\n",
       "      <td>-0.001965</td>\n",
       "      <td>-0.030612</td>\n",
       "    </tr>\n",
       "  </tbody>\n",
       "</table>\n",
       "</div>"
      ],
      "text/plain": [
       "   stock_abc  stock_def  stock_efg\n",
       "1  -0.081610   0.006754   0.009174\n",
       "2  -0.010956   0.004313   0.045455\n",
       "3  -0.031385   0.006044  -0.113043\n",
       "4  -0.024142   0.005849  -0.039216\n",
       "5   0.190755  -0.001965  -0.030612"
      ]
     },
     "execution_count": 13,
     "metadata": {},
     "output_type": "execute_result"
    }
   ],
   "source": [
    "# Create a daily_returns DataFrame by using the pct_change and dropna functions.\n",
    "daily_returns2_df = stocks.pct_change().dropna()\n",
    "daily_returns2_df.head()"
   ]
  },
  {
   "cell_type": "code",
   "execution_count": 14,
   "id": "fd83bcd0-e8f2-4306-8005-25ddb232d87b",
   "metadata": {},
   "outputs": [
    {
     "data": {
      "text/plain": [
       "0.0060371080502231965"
      ]
     },
     "execution_count": 14,
     "metadata": {},
     "output_type": "execute_result"
    }
   ],
   "source": [
    "# Use the Pandas mean function to find the average daily return of each stock in the daily_returns DataFrame.\n",
    "daily_returns2_mean = daily_returns2_df['stock_abc'].mean()\n",
    "daily_returns2_mean"
   ]
  },
  {
   "cell_type": "code",
   "execution_count": 15,
   "id": "4e101bd2-be7e-4105-a3d7-5b44287a7627",
   "metadata": {},
   "outputs": [
    {
     "data": {
      "text/plain": [
       "0.002989244729006314"
      ]
     },
     "execution_count": 15,
     "metadata": {},
     "output_type": "execute_result"
    }
   ],
   "source": [
    "# Use the Pandas mean function to find the average daily return of each stock in the daily_returns DataFrame.\n",
    "daily_returns2_mean = daily_returns2_df['stock_def'].mean()\n",
    "daily_returns2_mean"
   ]
  },
  {
   "cell_type": "code",
   "execution_count": 16,
   "id": "eb0f023a-138f-4f11-8e3c-7c5b98b5f8d9",
   "metadata": {},
   "outputs": [
    {
     "data": {
      "text/plain": [
       "-0.02382425141921902"
      ]
     },
     "execution_count": 16,
     "metadata": {},
     "output_type": "execute_result"
    }
   ],
   "source": [
    "# Use the Pandas mean function to find the average daily return of each stock in the daily_returns DataFrame.\n",
    "daily_returns2_mean = daily_returns2_df['stock_efg'].mean()\n",
    "daily_returns2_mean"
   ]
  },
  {
   "cell_type": "code",
   "execution_count": 17,
   "id": "2eb7df58-6f27-4fd4-baf3-857b1beaea51",
   "metadata": {},
   "outputs": [
    {
     "data": {
      "text/plain": [
       "stock_abc    0.074930\n",
       "stock_def    0.003503\n",
       "stock_efg    0.055040\n",
       "dtype: float64"
      ]
     },
     "execution_count": 17,
     "metadata": {},
     "output_type": "execute_result"
    }
   ],
   "source": [
    "# Use the Pandas std and sort_values functions to determine the stocks with the smallest and largest standard deviations.\n",
    "standard_deviation = daily_returns2_df.std()\n",
    "standard_deviation.head()"
   ]
  },
  {
   "cell_type": "code",
   "execution_count": 18,
   "id": "0b70d04f-a969-4034-ad25-761e2af2b6f3",
   "metadata": {},
   "outputs": [
    {
     "data": {
      "text/plain": [
       "stock_def    0.003503\n",
       "stock_efg    0.055040\n",
       "stock_abc    0.074930\n",
       "dtype: float64"
      ]
     },
     "execution_count": 18,
     "metadata": {},
     "output_type": "execute_result"
    }
   ],
   "source": [
    "standard_deviation_sort = standard_deviation.sort_values()\n",
    "standard_deviation_sort"
   ]
  },
  {
   "cell_type": "code",
   "execution_count": 19,
   "id": "7feabb45-c46b-4d1b-955d-b9b19da5f91a",
   "metadata": {},
   "outputs": [
    {
     "data": {
      "text/plain": [
       "stock_def    0.055613\n",
       "stock_efg    0.873733\n",
       "stock_abc    1.189478\n",
       "dtype: float64"
      ]
     },
     "execution_count": 19,
     "metadata": {},
     "output_type": "execute_result"
    }
   ],
   "source": [
    "# Calculate the annualized standard deviation, using the standard_deviation\n",
    "# from the daily_returns DataFrame multiplied by the square root (np.sqrt)\n",
    "# of the number of trading days in a year (252)\n",
    "annualized_standard_deviation = standard_deviation_sort * np.sqrt(252)\n",
    "\n",
    "# Display the sorted results\n",
    "annualized_standard_deviation.sort_values()"
   ]
  },
  {
   "cell_type": "code",
   "execution_count": null,
   "id": "3c46a3ac-7554-4052-827a-a8da90f470c2",
   "metadata": {},
   "outputs": [],
   "source": []
  },
  {
   "cell_type": "code",
   "execution_count": null,
   "id": "3d435737-4f8f-4987-b25a-7c5a0a4b834e",
   "metadata": {},
   "outputs": [],
   "source": []
  }
 ],
 "metadata": {
  "kernelspec": {
   "display_name": "Python (dev)",
   "language": "python",
   "name": "dev"
  },
  "language_info": {
   "codemirror_mode": {
    "name": "ipython",
    "version": 3
   },
   "file_extension": ".py",
   "mimetype": "text/x-python",
   "name": "python",
   "nbconvert_exporter": "python",
   "pygments_lexer": "ipython3",
   "version": "3.7.13"
  }
 },
 "nbformat": 4,
 "nbformat_minor": 5
}
